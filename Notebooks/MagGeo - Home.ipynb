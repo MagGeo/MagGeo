{
 "cells": [
  {
   "cell_type": "markdown",
   "metadata": {},
   "source": [
    "# MagGeo - Main Notebook\n",
    "\n",
    "**Authors** | Fernando Benitez-Paez, Urška Demšar, Jed Long, Ciaran Beggan\n",
    "\n",
    "**Contact**  | [Fernando.Benitez@st-andrews.ac.uk](mailto:Fernando.Benitez@st-andrews.ac.uk), [ud2@st-andrews.ac.uk](mailto:ud2@st-andrews.ac.uk), [jed.long@uwo.ca](mailto:jed.long@uwo.ca), [ciar@bgs.ac.uk](mailto:Fernando.Benitez@st-andrews.ac.uk)\n",
    "\n",
    "**Keywords** | Bird migration, data fusion, Earth’s magnetic field, Swarm, GPS tracking "
   ]
  },
  {
   "cell_type": "markdown",
   "metadata": {},
   "source": [
    "# Introduction\n",
    "\n",
    "Inspired by The Environmental Data Automated Track Annotation System (Env-DATA) Service  a tool on Movebank, where ecologists and animal movement researchers all over the world can link movement data with global environmental datasets. Including  hundreds of variables from a diverse set of data sources including the European Space Agency (ESA), the National Aeronautics and Space Administration (NASA), the US National Oceanic and Atmospheric Administration (NOAA), and others. EnvData allow researchers to annotate in space and time multiples environmental information to enrich their GPS tracks to analyze the  influence of several environmental variables in the trajectory. Using the [Env-DATA Track Annotation Service](https://www.movebank.org/cms/movebank-content/env-data-track-annotation) registered users on MoveBank are able to get environmental parameters—such as wind conditions, land use, vegetation, and snow cover—for the whole world. Using different interpolation methods users can include multiple environment variables selecting from a comprehensive list of datasets (you can browse the available dataset [here](https://www.movebank.org/cms/movebank-content/envdata-products)).\n",
    "\n",
    "The second element that inspired **MagGeo** is having a tool to help researcher to get a better understanding over how the earth's magnetic field is being used by birds as one of their navigational strategies. Despite of there are several approach in this regards we know still have little knowledge about how birds can use the influence of the magnetic field for their migration patterns, especially for those long-distance migratory animals. Other studies have been reflecting into the magnetic field influence based on magnetic field estimation models, or using some displacement experiments with particular species. The disadvantage of those previous studies is the magnetic field is a highly dynamic force that have different impact around the earth every day. Having said that MagGeo wants to take advantage of what is considered best survey of the geomagnetic field and its temporal evolution - Swarm Constellation. Swarm is a ESA’s magnetic field mission, launched on 22 November 2013, consists of the three identical **Swarm satellites** (**A**lpha, **B**ravo, and **C**harlie). Swarm A and C flying side-by-side (1.4° separation in longitude) at an altitude of 462 km (initial altitude) and Swarm B at higher orbit of 511 km (initial altitude) are equipped with the following set of [identical instruments](https://earth.esa.int/web/guest/missions/esa-eo-missions/swarm/instruments-overview).\n",
    "\n",
    "The data products available from  Swarm are Level 1b and Swarm Level 2 products. These products include Swarm magnetic field models, ionospheric and thermospheric products, and others. MagGeo use the Swarm Level 1b data product as the corrected and formatted output from each of the three Swarm satellites. For more information about the Swarm Data Products click [here]( https://earth.esa.int/web/guest/missions/esa-eo-missions/swarm/data-handbook).\n",
    "\n",
    "MagGeo has been deployed using a set of  Jupyter notebooks a powerful tool to run a python environment. Completely build in python 3.8 MagGeo is a well described program that will guide you through several steps to annotate your GPS trajectories with the geomagnetic field components reported by Swarm. You can access to Swarm Data products via HTTP or FTP using :\n",
    "\n",
    "- via any HTTP browser at [http://swarm-diss.eo.esa.int](http://swarm-diss.eo.esa.int/)\n",
    "- directly via an ftp client at [ftp://swarm-diss.eo.esa.int](ftp://swarm-diss.eo.esa.int/)\n",
    "\n",
    "However **MagGeo** use [**VirES**](https://swarm-vre.readthedocs.io/en/latest/Swarm_notebooks/02a__Intro-Swarm-viresclient.html) (Virtual environments for Earth Scientists) a platform for data & model access, analysis, and visualisation for ESA’s magnetic mission **Swarm**. This is a powerful client with the [viresclient API](https://swarm-vre.readthedocs.io/en/latest/Swarm_notebooks/02c__viresclient-API.html) that provide several classes and methods defined in the vires client package. The `viresclient` Python package allows you to connect to the VirES server to download [Swarm](https://earth.esa.int/web/guest/missions/esa-operational-eo-missions/swarm) data and data calculated using magnetic models."
   ]
  },
  {
   "cell_type": "markdown",
   "metadata": {},
   "source": [
    "# Background\n",
    "\n",
    "> ☝ Before moving on with MagGeo you might want to take a look at the following concepts:\n",
    "\n",
    "## Earth's Magnetic Field\n",
    "\n",
    "<img src=\"/docs/images/MagneticComponents-Jupyter.png\" style=\"width:500px;height:400px;float: left; margin-right: 2em;margin-bottom: 1em;\"> The Earth's magnetic field (or geomagnetic field ) is generated in the fluid outer core by a self-exciting dynamo process. Electrical currents flowing in the slowly moving molten iron generate the magnetic field. In addition to sources in the Earth's core the magnetic field observable at the Earth's surface has sources in the crust and in the ionosphere and magnetosphere.\n",
    "\n",
    "The Earth's magnetic field is described by seven components. These are **Declination (D)**, **Inclination (I)**, **Horizontal intensity (H)**, **Vertical intensity (Z)**, **total intensity (F)** and the **north (X)** and **east (Y)** components of the horizontal intensity. In most of the geomagnetic data sources the reference frame used to share the magnetic components is **NEC**, which is basically the same XYZ cartesian system.  By convention, declination is considered positive when measured east of north, Inclination and vertical intensity positive down, X (N) positive north, and Y(E) positive east. The magnetic field observed on Earth is constantly changing.\n",
    "\n",
    "&nbsp;\n",
    "\n",
    "&nbsp;\n",
    "<div class=\"alert alert-warning\" role=\"alert\">\n",
    "  <strong>The Earth's magnetic field varies both in space and time \n",
    "    That is why the relevance of <strong>MagGeo  helping researchers to understand the variations of the geomagnetic field across an animal movement trajectory. In particular having the annotated geomagnetic components at the the date and time the GPS point was collected. The following image can help you to understand how the geomagnetic components are represented and how they are computed.\n",
    "</div>\n",
    "\n",
    "Considering the point of measurement (*p*) as the origin of a Cartesian system of reference, the x-axis is in the geographic meridian directed to the north, y-axis in the geographic parallel directed to the east and z-axis parallel to the vertical at the point and positive downwards. Then we have:\n",
    "\n",
    "![equation](https://latex.codecogs.com/gif.latex?F=&space;\\sqrt{X^{2}&plus;Y^{2}&plus;Z^{2}}&space;\\hspace{1cm}&space;or\\hspace{1cm}&space;F=&space;\\sqrt{N^{2}&plus;E^{2}&plus;C^{2}})\n",
    "\n",
    "\n",
    "![equation](https://latex.codecogs.com/gif.latex?H&space;=&space;\\sqrt{N^{2}&plus;E^{2}}&space;-&space;D&space;=&space;\\arctan\\frac{E}{N}&space;-&space;I&space;=&space;\\arctan\\frac{C}{H}&space;-)\n",
    "\n",
    "The unit of magnetic field intensity, strictly flux density, most commonly used in geomagnetism is the Tesla. At the Earth's surface the total intensity varies from 22,000 nanotesla (nT) to 67,000 nT.  The units of D and I are degrees.\n",
    "\n",
    "## Calculation of Magnetic Components\n",
    "\n",
    "<img src=\"/docs/images/VerticalContributionsMagneticField.png\" style=\"width:500px;height:300px;float: left; margin-right: 1em;margin-bottom: 1em;\" >\n",
    "Swarm data provide information on the earth's magnetic field at the orbit level, which is above the ionosphere, where geomagnetic field is affected by the electrical currents induced by the interaction of the solar wind and magnetosphere ( see the figure above to understand the vertical contributions of the earth' magentic field). This means that to obtain the values of the magnetic field on the Earth’s surface where animals are migrating, the raw measurements from Swarm need to be corrected removing the effects from the modeled values from core, crust and magnetosphere. We do this in three steps. **1.** We download the swarm residuals for the GPS date, getting essentially the unmodelled ionospheric field contribution that we haven’t captured in any of the other models. **2.** because at the ground level the core and crust contriutiosn are stringen than the ones at the satellite altitude, We use the CHAOS model to compute the core, crust and magnetoshpere contributions for the particular, latitude, longitude, datetime and altitude of each GPS point. **3.** Finally we add those values modelled by CHAOS values with the Swarm resiuals, computing a comprenhensive magneitc values than include the stronger core and crust contributions and the unmodellled values from the satellite altitude that capture  all the inoshpere field contributions. For details of this correction see Supplementary Information 1 in our main paper.\n",
    "\n",
    "<img src=\"/docs/images/IonosphericCorrections.png\" style=\"width:700px;height:400px\">\n",
    "\n",
    "<div class=\"alert alert-warning\" role=\"alert\">\n",
    "  <strong>🔎 CHAOS:  \n",
    "It is a comprehensive field model, containing the modelled contributions of the time-varying core, the static crustal field, the average time-varying magnetosphere. We show calculation of the residuals (adding this parameter <code>residuals=True</code>) which means: data - <code>CHAOS(Core+Static+Magnetosphere)</code>.\n",
    "    \n",
    "</div>\n",
    "\n",
    "The **CHAOS** model is available on the server as model variables:\n",
    "\n",
    "- CHAOS-Core: SH degree 1-20\n",
    "- CHAOS-Static: SH degree 21-110\n",
    "- CHAOS-MMA-Primary: Magnetosphere external field, SH degree 1-2\n",
    "- CHAOS-MMA-Secondary: Magnetosphere internal induced field, SH degree 1-2"
   ]
  },
  {
   "cell_type": "markdown",
   "metadata": {},
   "source": [
    "# How MagGeo Works\n",
    "\n",
    "MagGeo is a tool that contains a set of python functions to carry out a data manipulation and mathematical processes to transform the data from Swarm Constellation,include the modelled values from CHAOS model ( last version in December 2019) and annotate the interpolated values into every GPS point in a given GPS trajectory.\n",
    "\n",
    "The following process is a set of three steps, **1. Get the Swarm data**, particulary the magnetic residuals in the NEC components. **2. Run the Spatio-temporal kernel** where the script will filter the Swarm data based on our spatial-temporal cylinder, to interpolate the magnetic componentes in the NEC frame for the given GPS track. Finally using the enriched GPS track, the final step will be the **3. Calculation of Magnetic Components** which use the CHAOS model to compute the magnetic components at the ground level. With the interpolated magnetic values corrected by the ionospheric contribution. The script will compute the other magnetic components including F (magnetic intensity), H (Horizontal component), Declination and Inclination. For detailed information of this process go to the Main Notebook. \n",
    "\n",
    "<img src=\"/docs/images/Workflow21042021.png\">\n",
    "\n",
    "\n",
    "## Interpolation (ST-IDW) and Annotation Process\n",
    "\n",
    "Once we have requested the data we need for each point in the GPS Track and considering we have gathered the available data from the three satellites for one day ( *24 hours, every 60 seconds around 1440 Swarm measures per satellite*). Now we need to `filter` in space and time the available points to compute the magnetic values for each GPS point in its particular date and time. Therefore, before running the interpolation process we set **four** functions that will require the *latitude* and *longitude* and the *epoch* time of each GPS point to filter the Swarm points into what we called **Space-Time Cylinder**. The following picture can provide a better explanation about how the points inside the space-time cylinder are included or excluded. **Figure I**, shows how the R of the Space-Time cylinder is based on the GPS point latitude. **Figure II**, illustrate the geometric components being the space-time cylinder where the points are filtered and included in the interpolation process. Figure B, will help you to understand how the following functions compute the required parameters **Figure III** shows the idea behind the interpolation process for each GPS point, requesting and processing the available Swarm measures by the three satellites. For more information about the time-space windows please read the full paper where we explain the details of it.\n",
    "\n",
    "<img src=\"/docs/images/ST-IDWGitHub.png\">\n",
    "\n",
    "::: {.callout-tip}\n",
    "## 📘 SwarmMagAnnotation function   \n",
    "Working as the main function for the annotation process, this functions meets the previous functions running the space-time window filters, and the computing the <code>ST- IDW process</code>. This function will run a interpolation process for each GPS Point considering only the Swarm points inside the Space-Time cylinder computed by the four previous functions. The return value will be an array with the values the annotated magnetic values for the GPS point. The function will be executed inside a loop going through the GPS track. This function is the annotation process per se, and through this process at first we run the interpolation getting the magnetic values in NEC reference frame and then we compute the extra magnetic values that are useful to get a better understating of the earth's magnetic field at this particular location, date and time.\n",
    " </div>\n",
    " \n",
    " Therefore, before running the interpolation process we set **four** functions that will require the *latitude* and *longitude* and the *epoch* time of each GPS point to filter the Swarm points into what we called **Space-Time Cylinder**. The following picture can provide a better explanation about how the points inside the space-time cylinder are included or excluded. **Figure I**, shows how the R of the Space-Time cylinder is based on the GPS point latitude. **Figure II**, illustrate the geometric components behind the space-time cylinder where the points are filtered and included in the interpolation process. Figure B, will help you to understand how the following functions compute the required parameters **Figure III** shows the idea behind the interpolation process for each GPS point, requesting and processing the available Swarm measures by the three satellites. For more information about the time-space windows please read the full paper where we explain the details of it.\n",
    " \n",
    " :::\n",
    " \n",
    "::: {.callout-important}\n",
    "📘 Auxiliary Functions:The function ST_IDW_Process includes 4 auxiliary functions to run the sptatial-temporal kernel\n",
    "    \n",
    "- distance_to_GPS function: Is the function in charge to calculate the distance between each GPS Point and the Swarm Point.\n",
    "- Kradius function: Is the function in charge to compute the R (radius) value in the cylinder. The R value will be considered based on the latitude of each GPS Point.\n",
    "- DistJ function: This function will calculate the <code>d</code> value as the hypotenuse created in the triangle created amount the locations of the GPS point, the location of the Swarm points and the radius value.\n",
    "- DfTime_func function: This is a time function to selected the points in the range of a the DeltaTime - <code>DT</code> window. The Delta time window has been set as 4 hours for each satellite trajectory.\n",
    ":::    "
   ]
  },
  {
   "cell_type": "markdown",
   "metadata": {},
   "source": [
    "# Data requirements\n",
    "\n",
    "::: {.callout-tip}\n",
    "## 🔎 Your trajectory must be in a csv format\n",
    "\n",
    "There are three columns that  must be included in your GPS trajectory. Make sure your GPS trajectory includes  **Latitude** , **Longitude** and **timestamp**. We suggest that the Timestamp column follow the day/month/year Hour:Minute (**dd/mm/yyyy HH:MM:SS**) format, Latitude and Longitude should be in decimal degrees (WGS84). If you have a **altitude** attribute, make sure that the units are in kilometers. Other columns will be ignored. Here it is an example of how your GPS track should looks like.\n",
    "\n",
    "<img src=\"/docs/images/TableExample.png\">\n",
    "\n",
    "For this example we are reading the <strong>BirdGPSTrajectory.csv  file. If you want to run the method using your own csv file, make sure you store your the file in the <code>./data</code> folder. For more information about the dataset we used in this example go to the Main Notebook.\n",
    ":::"
   ]
  },
  {
   "cell_type": "markdown",
   "metadata": {},
   "source": [
    "## Dataset used as use-case\n",
    "\n",
    "MagGeo comes with a dataset for the use case you see in the notebook outputs. This dataset comes from the MoveBank Data Repository (https://www.datarepository.movebank.org/)[1][2].   \n",
    "\n",
    "We annotated tracking data of greater white-fronted geese (Anser albifrons), which migrate between northern Germany and the Russian Arctic. We annotated data for fifteen individuals in a single autumn migration (42 days) a total of 973 GPS location.\n",
    "\n",
    "[1]Kölzsch A, Müskens GJDM, Kruckenberg H, Glazov P, Weinzierl R, Nolet BA, Wikelski M (2016) Towards a new understanding of migration timing: slower spring than autumn migration in geese reflects different decision rules for stopover use and departure. Oikos. doi:10.1111/oik.03121\n",
    "\n",
    "[2]Kölzsch A, Kruckenberg H, Glazov P, Müskens GJDM, Wikelski M (2016) Data from: Towards a new understanding of migration timing: slower spring than autumn migration in geese reflects different decision rules for stopover use and departure. Movebank Data Repository. doi:10.5441/001/1.31c2v92f"
   ]
  }
 ],
 "metadata": {
  "kernelspec": {
   "display_name": "MagGeoEnv",
   "language": "python",
   "name": "python3"
  },
  "language_info": {
   "codemirror_mode": {
    "name": "ipython",
    "version": 3
   },
   "file_extension": ".py",
   "mimetype": "text/x-python",
   "name": "python",
   "nbconvert_exporter": "python",
   "pygments_lexer": "ipython3",
   "version": "3.8.12"
  },
  "toc": {
   "base_numbering": 1,
   "nav_menu": {},
   "number_sections": true,
   "sideBar": true,
   "skip_h1_title": false,
   "title_cell": "Table of Contents",
   "title_sidebar": "Contents",
   "toc_cell": false,
   "toc_position": {},
   "toc_section_display": true,
   "toc_window_display": false
  }
 },
 "nbformat": 4,
 "nbformat_minor": 4
}
