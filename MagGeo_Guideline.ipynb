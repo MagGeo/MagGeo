{
 "cells": [
  {
   "cell_type": "markdown",
   "id": "e2e31ba4",
   "metadata": {},
   "source": [
    "# MagGeo - Guideline Notebook\n",
    "\n",
    "This notebook demonstrates how to annotate GPS trajectories with geomagnetic data using the MagGeo library (PyPI version).\n",
    "\n",
    "## Prerequisites\n",
    "\n",
    "Before running this notebook, you need a **VirES token** to access Swarm satellite data:\n",
    "\n",
    "1. Go to [https://vires.services/](https://vires.services/)\n",
    "2. Create an account (it's free)\n",
    "3. Go to your account settings \n",
    "4. Generate a new token\n",
    "5. Copy the token and paste it in the `params` dictionary below\n"
   ]
  },
  {
   "cell_type": "markdown",
   "id": "6f3ae282",
   "metadata": {},
   "source": [
    "# How to run MagGeo\n",
    "\n",
    "First you need to install the required packages and import the necessary libraries. Then, you can create a `MagGeo` instance with your parameters and run the analysis.\n",
    "```python\n",
    "# Install the required packages\n",
    "pip install maggeo  \n"
   ]
  },
  {
   "cell_type": "markdown",
   "id": "0269e51e",
   "metadata": {},
   "source": [
    "## 1. Import Libraries\n",
    "Import MagGeo and other required libraries."
   ]
  },
  {
   "cell_type": "code",
   "execution_count": null,
   "id": "ecb2adf6",
   "metadata": {},
   "outputs": [],
   "source": [
    "from maggeo.core import annotate_gps_with_geomag"
   ]
  },
  {
   "cell_type": "markdown",
   "id": "015272e8",
   "metadata": {},
   "source": [
    "Here, MagGeo include trajectory files (data/sample_data) with the required attributes that usually are included. The `annotate_gps_with_geomag` function will annotate the GPS data with geomagnetic indices, including the AE and SME indices if available.\n",
    "\n",
    "```python\n",
    "# Import necessary libraries\n",
    "import os\n",
    "from maggeo.core import annotate_gps_with_geomag"
   ]
  },
  {
   "cell_type": "markdown",
   "id": "a5f0cf95",
   "metadata": {},
   "source": [
    "## 2. Set Up Parameters\n",
    "Specify the gps trajectory dataset, column names and other parameters as required by your data."
   ]
  },
  {
   "cell_type": "code",
   "execution_count": null,
   "id": "ea20617a",
   "metadata": {},
   "outputs": [],
   "source": [
    "# Set your token as environment variable (recommended)\n",
    "import os\n",
    "os.environ['VIRES_TOKEN'] = \"3b5qyp3aNoVB9FEBEnKgrePoQtQhMUD-\"  # Replace with your actual token\n",
    "\n",
    "# 2. Set up parameters for MagGeo\n",
    "params = {\n",
    "    \"data_dir\": os.path.join(os.getcwd(), \"data\", \"sample_data\"),\n",
    "    \"gpsfilename\": \"BirdGPSTrajectoryTest.csv\",  # or your test file\n",
    "    \"lat_col\": \"location-lat\",\n",
    "    \"long_col\": \"location-long\",\n",
    "    \"datetime_col\": \"timestamp\",\n",
    "    \"altitude_col\": \"height\",  # or \"\" if not present\n",
    "    \"token\": os.environ.get('VIRES_TOKEN'),  # Get token from environment\n",
    "    # Enhanced SwarmDataManager settings\n",
    "    \"use_swarm_manager\": True,\n",
    "    \"swarm_data_dir\": \"temp_data/swarm_data\",\n",
    "    \"swarm_file_format\": \"csv\",\n",
    "    \"resume_swarm_download\": True\n",
    "}"
   ]
  },
  {
   "cell_type": "markdown",
   "id": "315ad114",
   "metadata": {},
   "source": [
    "## 3. Annotate GPS Trajectory\n",
    "Run the MagGeo annotation process. This may take a few minutes depending on data size."
   ]
  },
  {
   "cell_type": "code",
   "execution_count": null,
   "id": "dfdbf642",
   "metadata": {},
   "outputs": [],
   "source": [
    " # Now run the annotation process\n",
    "print(\"Starting MagGeo processing...\")\n",
    "\n",
    "# This will annotate the GPS trajectory using the enhanced SwarmDataManager\n",
    "# Token is now cached and won't show \"Token saved\" multiple times\n",
    "# Progress bar shows a clean, unified view of the download process\n",
    "result_df = annotate_gps_with_geomag(\n",
    "    params,\n",
    "    use_swarm_manager=True,  # Use improved SwarmDataManager\n",
    "    use_parallel=False       # Set to True for parallel processing if desired\n",
    ")\n",
    "\n",
    "print(\" MagGeo processing completed successfully\")\n",
    "        \n",
    "# Display results\n",
    "print(f\"Result shape: {result_df.shape}\")\n",
    "display(result_df.head())"
   ]
  },
  {
   "cell_type": "markdown",
   "id": "ba35c66f",
   "metadata": {},
   "source": [
    "## 4. Saving/Exporting the results\n",
    "\n",
    "You can save the annotated DataFrame to CSV or continue with your analysis."
   ]
  },
  {
   "cell_type": "code",
   "execution_count": null,
   "id": "85061c70",
   "metadata": {},
   "outputs": [],
   "source": [
    "%%time\n",
    "# Save the results\n",
    "outputfile =params[\"gpsfilename\"].replace(\".csv\", \"_annotated.csv\")\n",
    "output_path = os.path.join(\"data/results\", outputfile)\n",
    "result_df.to_csv(output_path)\n",
    "print(f\"\\nResults saved to: {output_path}\")\n"
   ]
  },
  {
   "cell_type": "markdown",
   "id": "fc16a85b",
   "metadata": {},
   "source": [
    "## 5. Validate the results\n",
    "To validate the results we plot the `F`column. Intensity of the geomagnetic field in nanoTesla (nT) and compare it with the expected values. This is useful to ensure that the data has been correctly annotated and that the geomagnetic indices are accurate.\n"
   ]
  },
  {
   "cell_type": "code",
   "execution_count": null,
   "id": "89c56a43",
   "metadata": {},
   "outputs": [],
   "source": [
    "import matplotlib.pyplot as plt\n",
    "## Creating a copy of the results and setting the Datetime Column as dataframe index.\n",
    "ValidateDF = result_df.copy()\n",
    "ValidateDF.set_index(\"timestamp\", inplace=True)\n",
    "## Plotting the F column.\n",
    "hist = ValidateDF.hist(column='F')\n",
    "plt.title('F distribution')\n",
    "plt.xlabel('F in nT')\n",
    "plt.ylabel('# of measurements')"
   ]
  },
  {
   "cell_type": "markdown",
   "id": "f77ce9bf",
   "metadata": {},
   "source": [
    "## 6. Map the GPS Track using the annotated Magnetic Values\n",
    "\n",
    "Now we are going to plot the annotated GPS trajectory to see the different magnetic components in a map and have a better perspective of the impact of the earth magnetic field over the trajectory."
   ]
  },
  {
   "cell_type": "code",
   "execution_count": null,
   "id": "a7ce7f05",
   "metadata": {},
   "outputs": [],
   "source": [
    "ValidateDF.plot(kind=\"scatter\", x=\"location-lat\", y=\"location-long\",\n",
    "    label=\"Magnetic Intensity in nT\",\n",
    "    c=\"F\", cmap=plt.get_cmap(\"gist_rainbow\"),\n",
    "    colorbar=True, alpha=0.4, figsize=(10,7),\n",
    "    sharex=False #This is only needed to get the x-axis label working due to a current bug in pandas plot.\n",
    "    \n",
    ")\n",
    "\n",
    "plt.ylabel(\"Longitude\", fontsize=12)\n",
    "plt.xlabel(\"Latitude\", fontsize=12)\n",
    "plt.legend(fontsize=12)\n",
    "plt.show()"
   ]
  },
  {
   "cell_type": "markdown",
   "id": "cec6cba5",
   "metadata": {},
   "source": [
    "# MagGeo in debug mode (Advanced)\n",
    "\n",
    "This is totally optional. Debug mode is useful to see what's happening under the hood. You can enable it by setting the `MAGGEO_DEBUG` environment variable to `True`. This will print additional information about the processing steps.\n",
    "\n",
    "If debug mode is active, it will:\n",
    "- Show detailed logging information\n",
    "- Save intermediate files to `temp_data/` directory so you can have a whole track of the processing\n",
    "\n",
    "```python\n",
    "# Enable debug mode to see what's happening\n",
    "os.environ['MAGGEO_DEBUG'] = 'True'"
   ]
  },
  {
   "cell_type": "code",
   "execution_count": null,
   "id": "bb0e32c8",
   "metadata": {},
   "outputs": [],
   "source": [
    "# 1. Set up parameters for your test\n",
    "import os\n",
    "\n",
    "# Enable debug mode to see what's happening\n",
    "os.environ['MAGGEO_DEBUG'] = 'True'    \n",
    "\n",
    "params = {\n",
    "    \"data_dir\": os.path.join(os.getcwd(), \"data\", \"sample_data\"),\n",
    "    \"gpsfilename\": \"trajectory_test.csv\",  # or your test file\n",
    "    \"lat_col\": \"location-lat\",\n",
    "    \"long_col\": \"location-long\",\n",
    "    \"datetime_col\": \"timestamp\",\n",
    "    \"altitude_col\": \"height\",  # or \"\" if not present\n",
    "    \"token\": os.environ.get('VIRES_TOKEN'),  # Use environment variable\n",
    "    # SwarmDataManager\n",
    "    \"use_swarm_manager\": True,\n",
    "    \"swarm_data_dir\": \"temp_data/swarm_data\",\n",
    "    \"swarm_file_format\": \"parquet\",\n",
    "    \"resume_swarm_download\": True,\n",
    "    \"chunk_size\": 10  # Process 10 dates at a time\n",
    "}\n",
    "\n",
    "print(\"Debug mode enabled\")\n",
    "print(\" Using SwarmDataManager\")\n",
    "print(\" Resume functionality enabled\")"
   ]
  },
  {
   "cell_type": "code",
   "execution_count": null,
   "id": "90efdf58",
   "metadata": {},
   "outputs": [],
   "source": [
    "# Annotate your trajectory, but now it will now generate debug output and save temp files\n",
    "result = annotate_gps_with_geomag(params)\n",
    "\n",
    "# Debug files will be saved to temp_data/:\n",
    "# - maggeo_debug.log (log file)\n",
    "# - multiple .csv files with intermediate results."
   ]
  },
  {
   "cell_type": "code",
   "execution_count": null,
   "id": "281d7d6e",
   "metadata": {},
   "outputs": [],
   "source": [
    "%load_ext watermark\n",
    "%watermark -i -v -p chaosmagpy,numpy,matplotlib,maggeo,scipy,cartopy,viresclient"
   ]
  },
  {
   "cell_type": "code",
   "execution_count": null,
   "id": "aa9630d4",
   "metadata": {},
   "outputs": [],
   "source": [
    "## Creating a copy of the results and setting the Datetime Column as dataframe index.\n",
    "## Plotting the GeoMagmetic columns, F, D, I, H, X, Y, Z\n",
    "result_df_copy = result_df.copy()\n",
    "result_df_copy.set_index(result_df_copy['timestamp'], inplace=True)\n",
    "hist = result_df_copy.hist(column='F')\n",
    "plt.title('F distribution')\n",
    "plt.xlabel('F in nT')\n",
    "plt.ylabel('# of measurements') \n",
    "plt.show()"
   ]
  },
  {
   "cell_type": "markdown",
   "id": "3aaf907e",
   "metadata": {},
   "source": [
    "# Including AE and SME indices to your trajectory\n",
    "\n",
    "MagGeo can also include the AE and SME indices in the analysis. This is useful to understand the geomagnetic activity during the GPS trajectory. You can use `indices` module that contains the functions `get_ae_index()` and `get_sme_index()`. Here is how you can use them:\n",
    "\n",
    "```python\n",
    "# Fetching Data from HAPI severs to Include AE indices\n",
    "from maggeo import indices"
   ]
  },
  {
   "cell_type": "markdown",
   "id": "e2fa4ec5",
   "metadata": {},
   "source": [
    "First, we need to read the annotated GPS trajectory from MagGeo."
   ]
  },
  {
   "cell_type": "code",
   "execution_count": null,
   "id": "0f004186",
   "metadata": {},
   "outputs": [],
   "source": [
    "#import os; print(os.popen('pip install hapiclient --upgrade').read())\n",
    "#%import os; print(os.popen('pip install hapiplot --upgrade').read())"
   ]
  },
  {
   "cell_type": "markdown",
   "id": "4248f39e",
   "metadata": {},
   "source": [
    "## Fetching AE indices\n",
    "\n",
    "AE indices can be fetched from the HAPI server using the `get_ae_index` function. This function will return a DataFrame with the AE indices for the specified dates. "
   ]
  },
  {
   "cell_type": "code",
   "execution_count": null,
   "id": "56f0067f",
   "metadata": {},
   "outputs": [],
   "source": [
    "# Using get_ae_index() function\n",
    "from maggeo.indices import get_ae_index\n",
    "import pandas as pd\n",
    "import os\n",
    "\n",
    "# Read your MagGeo results, here I assume you have already annotated your trajectory\n",
    "# but you can even do it to your trajectory without that. The trajectory needs to be in CSV format\n",
    "csv_path = os.path.join(\"data/results\", \"MagGeoResult.csv\")\n",
    "df_csv = pd.read_csv(csv_path)\n",
    "df_csv['timestamp'] = pd.to_datetime(df_csv['timestamp'])\n",
    "df_csv[\"date\"] = df_csv['timestamp'].dt.date.astype(str)\n",
    "\n",
    "# Get unique dates, to optimize the AE index fetching\n",
    "# This will reduce the number of requests to the HAPI server\n",
    "unique_dates = df_csv['date'].unique()\n",
    "\n",
    "# Fetch AE indices\n",
    "ae_data = get_ae_index(unique_dates, verbose=False)\n",
    "\n",
    "print(f\"AE data shape: {ae_data.shape}\")\n",
    "print(\"AE data sample:\")\n",
    "print(ae_data.head())"
   ]
  },
  {
   "cell_type": "code",
   "execution_count": null,
   "id": "f4cdcbd9",
   "metadata": {},
   "outputs": [],
   "source": [
    "# Now you need to Merge AE data with the original trajectory, and MagGeo has a\n",
    "# function for that.\n",
    "\n",
    "from maggeo.indices import merge_indices_with_maggeo\n",
    "\n",
    "df_with_ae = merge_indices_with_maggeo(df_csv, ae_data=ae_data)\n",
    "\n",
    "# Save results\n",
    "output_path = os.path.join(\"data/results\", \"MagGeoResult_with_AE.csv\")\n",
    "df_with_ae.to_csv(output_path)\n",
    "print(f\"Results with AE indices saved to: {output_path}\")\n",
    "\n",
    "# Display sample\n",
    "print(\"\\nSample of merged data:\")\n",
    "available_cols = [col for col in ['F', 'AE_INDEX', 'AL_INDEX', 'AU_INDEX'] if col in df_with_ae.columns]\n",
    "print(df_with_ae[available_cols].head())"
   ]
  },
  {
   "cell_type": "markdown",
   "id": "e87323f7",
   "metadata": {},
   "source": [
    "## Fetching SME indices\n",
    "Similarly, you can fetch the SME indices using the `get_sme_index` function. This function will return a DataFrame with the SME indices for the specified dates.\n"
   ]
  },
  {
   "cell_type": "code",
   "execution_count": null,
   "id": "ff803317",
   "metadata": {},
   "outputs": [],
   "source": [
    "# Using get_sme_index() function\n",
    "from maggeo.indices import get_sme_index\n",
    "\n",
    "# Fetch SME indices\n",
    "sme_data = get_sme_index(unique_dates, verbose=False)\n",
    "\n",
    "print(f\"SME data shape: {sme_data.shape}\")\n",
    "print(\"SME data sample:\")\n",
    "print(sme_data.head())"
   ]
  },
  {
   "cell_type": "code",
   "execution_count": null,
   "id": "bf552a32",
   "metadata": {},
   "outputs": [],
   "source": [
    "# Merge SME with original trajectory or MagGeo Results.\n",
    "df_with_sme = merge_indices_with_maggeo(df_csv, sme_data=sme_data)\n",
    "\n",
    "print(\"Dataset with SME indices:\")\n",
    "available_cols = [col for col in ['F', 'SME'] if col in df_with_sme.columns]\n",
    "print(df_with_sme[available_cols].head())\n",
    "\n",
    "# Save the dataset\n",
    "output_path = os.path.join(\"data/results\", \"MagGeoResult_with_SME_indices.csv\")\n",
    "df_with_sme.to_csv(output_path)\n",
    "print(f\"\\nComprehensive results saved to: {output_path}\")"
   ]
  },
  {
   "cell_type": "markdown",
   "id": "03e03a20",
   "metadata": {},
   "source": [
    "## Identifying unique dates for Swarm data download\n",
    "You can use the `identify_unique_dates` function to determine the unique dates needed for Swarm data download. This function analyzes the GPS trajectory and returns a list of unique dates that are required for the Swarm data download. It considers the GPS points and their timestamps to ensure that the dates cover the entire trajectory. Swarm satellite mission and its data are typically available in 1-day intervals (every second), so this function identifies a buffer dates for early morning and late evening GPS points to ensure complete coverage that matches the time window of 4 hours before and after the GPS point.\n",
    "\n",
    "```python\n",
    "from maggeo import date_utils\n"
   ]
  },
  {
   "cell_type": "code",
   "execution_count": null,
   "id": "b8508ddf",
   "metadata": {},
   "outputs": [],
   "source": [
    "import os\n",
    "import pandas as pd\n",
    "from maggeo import identify_unique_dates\n",
    "from maggeo.gps import get_gps_data\n",
    "\n",
    "# Set up parameters (adjust paths as needed)\n",
    "data_dir = \"data/sample_data\"  # Adjust this path\n",
    "gps_filename = \"BirdGPSTrajectory.csv\"  # Adjust this filename\n",
    "    \n",
    "# Parameters for GPS data loading\n",
    "params = {\n",
    "    \"data_dir\": data_dir,\n",
    "    \"gpsfilename\": gps_filename,\n",
    "    \"lat_col\": \"location-lat\",\n",
    "    \"long_col\": \"location-long\",\n",
    "    \"altitude_col\": \"height\",  # or None if not present\n",
    "    \"datetime_col\": \"timestamp\",\n",
    "}\n",
    "    \n",
    "\n",
    "# 1. Load GPS data\n",
    "print(\"Loading GPS data...\")\n",
    "gps_df = get_gps_data(data_dir=data_dir, gpsfilename=gps_filename,lat_col=params[\"lat_col\"],\n",
    "                      lon_col=params[\"long_col\"], altitude_col=params[\"altitude_col\"],\n",
    "                      datetime_col=params[\"datetime_col\"]\n",
    ")\n",
    "        \n",
    "print(f\"Loaded GPS data with {len(gps_df)} points\")\n",
    "print(f\"Date range: {gps_df['dates'].min()} to {gps_df['dates'].max()}\")"
   ]
  },
  {
   "cell_type": "code",
   "execution_count": null,
   "id": "4170c7a5",
   "metadata": {},
   "outputs": [],
   "source": [
    "# 2. Identify unique dates for Swarm data download\n",
    "print(\"\\nIdentifying unique dates for Swarm data download...\")\n",
    "unique_dates_df = identify_unique_dates(gps_df)\n",
    "# 3. Display results\n",
    "print(f\"\\nResults:\")\n",
    "print(f\"Total unique dates needed: {len(unique_dates_df)}\")\n",
    "print(f\"Original GPS trajectory dates: {len(gps_df['dates'].unique())}\")\n",
    "print(f\"Buffer dates added: {unique_dates_df['is_buffer_date'].sum()}\")\n",
    "print(f\"Date span: {(unique_dates_df['date'].max() - unique_dates_df['date'].min()).days + 1} days\")\n",
    "print(f\"  From: {unique_dates_df['date'].min()}\")\n",
    "print(f\"  To: {unique_dates_df['date'].max()}\")\n",
    "print(f\"\\nUnique dates DataFrame:\")\n",
    "print(unique_dates_df.head())\n"
   ]
  },
  {
   "cell_type": "code",
   "execution_count": null,
   "id": "eb07d1e6",
   "metadata": {},
   "outputs": [],
   "source": [
    "# 4. Save the comprehensive dataset\n",
    "output_path = os.path.join(\"data/results\", \"unique_dates_for_swarm_download.csv\")\n",
    "unique_dates_df.to_csv(output_path, index=False)\n",
    "print(f\"\\nUnique dates Results saved to: {output_path}\")"
   ]
  },
  {
   "cell_type": "markdown",
   "id": "23f3aa20",
   "metadata": {},
   "source": [
    "# Swarm Data Manager\n",
    "\n",
    "Swarm Data Manager is a new utility in MagGeo (still under development) that helps you download and manage Swarm satellite data. It can help you to download the Swarm data in a specified directory. You can also specify the file format (CSV, Parket or Pickel) and whether to resume downloads if they were interrupted.\n",
    "\n",
    "```python\n",
    "# Import Swarm Data Manager\n",
    "from maggeo.swarm_data_manager import SwarmDataManager\n"
   ]
  },
  {
   "cell_type": "markdown",
   "id": "d5c47fe4",
   "metadata": {},
   "source": [
    "The following code demostrates how to use the Swarm Data Manager to download Swarm data for a trajectory. It will download the data in the specified directory and format, and it will resume downloads if they were interrupted. \n",
    "\n",
    "```python\n",
    "from maggeo.swarm_data_manager import download_swarm_data_for_trajectory\n"
   ]
  },
  {
   "cell_type": "code",
   "execution_count": 4,
   "id": "3d57f625",
   "metadata": {},
   "outputs": [],
   "source": [
    "# Import necessary libraries\n",
    "from maggeo.gps import get_gps_data\n",
    "from maggeo.swarm_data_manager import download_swarm_data_for_trajectory\n",
    "import os\n",
    "\n",
    "# Ensure you have set your token as an environment variable\n",
    "os.environ['VIRES_TOKEN'] = \"3b5qyp3aNoVB9FEBEnKgrePoQtQhMUD-\"  # Replace with your actual token    \n",
    "\n",
    "import pandas as pd\n",
    "\n",
    "# Load your GPS trajectory\n",
    "gps_df = get_gps_data(\n",
    "    data_dir=\"data/sample_data\",\n",
    "    gpsfilename=\"BirdGPSTrajectoryTest.csv\",\n",
    "    lat_col=\"location-lat\",\n",
    "    lon_col=\"location-long\", \n",
    "    datetime_col=\"timestamp\",\n",
    "    altitude_col=\"height\"  # or None if not present\n",
    ")"
   ]
  },
  {
   "cell_type": "code",
   "execution_count": 5,
   "id": "2579d43c",
   "metadata": {},
   "outputs": [
    {
     "name": "stdout",
     "output_type": "stream",
     "text": [
      "📁 Found existing data for 10 dates\n",
      "✅ All Swarm data already downloaded!\n"
     ]
    }
   ],
   "source": [
    "swarm_a, swarm_b, swarm_c = download_swarm_data_for_trajectory(\n",
    "    gps_df,\n",
    "    data_dir=\"my_swarm_data\",\n",
    "    file_format=\"csv\",  # or \"csv\", \"pickle\"\n",
    "    token=os.environ.get('VIRES_TOKEN'),\n",
    "    resume=True  # Skip already downloaded files\n",
    ")"
   ]
  },
  {
   "cell_type": "code",
   "execution_count": 6,
   "id": "ca0a381c",
   "metadata": {},
   "outputs": [
    {
     "data": {
      "text/html": [
       "<div>\n",
       "<style scoped>\n",
       "    .dataframe tbody tr th:only-of-type {\n",
       "        vertical-align: middle;\n",
       "    }\n",
       "\n",
       "    .dataframe tbody tr th {\n",
       "        vertical-align: top;\n",
       "    }\n",
       "\n",
       "    .dataframe thead th {\n",
       "        text-align: right;\n",
       "    }\n",
       "</style>\n",
       "<table border=\"1\" class=\"dataframe\">\n",
       "  <thead>\n",
       "    <tr style=\"text-align: right;\">\n",
       "      <th></th>\n",
       "      <th>Flags_B</th>\n",
       "      <th>Latitude</th>\n",
       "      <th>Kp</th>\n",
       "      <th>Flags_F</th>\n",
       "      <th>F_res</th>\n",
       "      <th>Radius</th>\n",
       "      <th>Spacecraft</th>\n",
       "      <th>Longitude</th>\n",
       "      <th>N_res</th>\n",
       "      <th>E_res</th>\n",
       "      <th>C_res</th>\n",
       "      <th>timestamp</th>\n",
       "      <th>download_date</th>\n",
       "      <th>data_quality</th>\n",
       "    </tr>\n",
       "    <tr>\n",
       "      <th>epoch</th>\n",
       "      <th></th>\n",
       "      <th></th>\n",
       "      <th></th>\n",
       "      <th></th>\n",
       "      <th></th>\n",
       "      <th></th>\n",
       "      <th></th>\n",
       "      <th></th>\n",
       "      <th></th>\n",
       "      <th></th>\n",
       "      <th></th>\n",
       "      <th></th>\n",
       "      <th></th>\n",
       "      <th></th>\n",
       "    </tr>\n",
       "  </thead>\n",
       "  <tbody>\n",
       "    <tr>\n",
       "      <th>1409356800</th>\n",
       "      <td>0</td>\n",
       "      <td>58.858303</td>\n",
       "      <td>3.667</td>\n",
       "      <td>1</td>\n",
       "      <td>-3.630882</td>\n",
       "      <td>6833692.31</td>\n",
       "      <td>A</td>\n",
       "      <td>-152.625234</td>\n",
       "      <td>-4.408266</td>\n",
       "      <td>-51.562688</td>\n",
       "      <td>1.662757</td>\n",
       "      <td>2014-08-30 00:00:00</td>\n",
       "      <td>2014-08-30</td>\n",
       "      <td>good</td>\n",
       "    </tr>\n",
       "    <tr>\n",
       "      <th>1409356830</th>\n",
       "      <td>0</td>\n",
       "      <td>60.771215</td>\n",
       "      <td>3.667</td>\n",
       "      <td>1</td>\n",
       "      <td>1.055536</td>\n",
       "      <td>6833454.29</td>\n",
       "      <td>A</td>\n",
       "      <td>-152.399995</td>\n",
       "      <td>-4.758551</td>\n",
       "      <td>-50.463303</td>\n",
       "      <td>6.201662</td>\n",
       "      <td>2014-08-30 00:00:30</td>\n",
       "      <td>2014-08-30</td>\n",
       "      <td>good</td>\n",
       "    </tr>\n",
       "  </tbody>\n",
       "</table>\n",
       "</div>"
      ],
      "text/plain": [
       "            Flags_B   Latitude     Kp  Flags_F     F_res      Radius  \\\n",
       "epoch                                                                  \n",
       "1409356800        0  58.858303  3.667        1 -3.630882  6833692.31   \n",
       "1409356830        0  60.771215  3.667        1  1.055536  6833454.29   \n",
       "\n",
       "           Spacecraft   Longitude     N_res      E_res     C_res  \\\n",
       "epoch                                                              \n",
       "1409356800          A -152.625234 -4.408266 -51.562688  1.662757   \n",
       "1409356830          A -152.399995 -4.758551 -50.463303  6.201662   \n",
       "\n",
       "                      timestamp download_date data_quality  \n",
       "epoch                                                       \n",
       "1409356800  2014-08-30 00:00:00    2014-08-30         good  \n",
       "1409356830  2014-08-30 00:00:30    2014-08-30         good  "
      ]
     },
     "execution_count": 6,
     "metadata": {},
     "output_type": "execute_result"
    }
   ],
   "source": [
    "swarm_a.head(2)\n",
    "#gps_df.head(4)"
   ]
  },
  {
   "cell_type": "markdown",
   "id": "873d0007",
   "metadata": {},
   "source": [
    "# Parallel Processing\n",
    "\n",
    "MagGeo supports parallel processing to speed up the annotation of GPS trajectories with geomagnetic data. This is particularly useful for large datasets where processing time can be significantly reduced by utilizing multiple CPU cores. You can enable parallel processing by setting the `parallel` parameter to `True` in the `annotate_gps_with_geomag` function. This will enable parallel processing of the GPS trajectory data, which can significantly speed up the annotation process, especially for large datasets. Or you can import the module `maggeo.parallel_processing` and use the `parallel_maggeo_annotation` function to run the annotation in parallel.\n",
    "\n",
    "```python\n",
    "# Import necessary libraries\n",
    "import os\n",
    "from maggeo.core import annotate_gps_with_geomag\n",
    "# Enable parallel processing\n",
    "annotate_gps_with_geomag(gps_data, geomag_data, parallel=True)\n"
   ]
  },
  {
   "cell_type": "code",
   "execution_count": 1,
   "id": "e31d56df",
   "metadata": {},
   "outputs": [
    {
     "name": "stdout",
     "output_type": "stream",
     "text": [
      "=== MagGeo Parallel Processing Example ===\n",
      "Available CPU cores: 16\n",
      "\n",
      "1. Using main function with parallel processing:\n"
     ]
    }
   ],
   "source": [
    "import pandas as pd\n",
    "import time\n",
    "import multiprocessing as mp\n",
    "from maggeo.core import annotate_gps_with_geomag\n",
    "#from maggeo.parallel_processing import parallel_maggeo_annotation\n",
    "#from maggeo.swarm_data_manager import load_swarm_data \n",
    "\n",
    "print(\"=== MagGeo Parallel Processing Example ===\")\n",
    "print(f\"Available CPU cores: {mp.cpu_count()}\")\n",
    "    \n",
    "import os\n",
    "# Ensure you have set your token as an environment variable\n",
    "os.environ['VIRES_TOKEN'] = \"3b5qyp3aNoVB9FEBEnKgrePoQtQhMUD-\"  # Replace with your actual token    \n",
    "\n",
    "params = {\n",
    "    \"data_dir\": os.path.join(os.getcwd(), \"data\", \"sample_data\"),\n",
    "    \"gpsfilename\": \"BirdGPSTrajectoryTest.csv\",  # or your test file\n",
    "    \"lat_col\": \"location-lat\",\n",
    "    \"long_col\": \"location-long\",\n",
    "    \"datetime_col\": \"timestamp\",\n",
    "    \"altitude_col\": \"height\",  # or \"\" if not present\n",
    "    \"token\": os.environ.get('VIRES_TOKEN'),  # Use environment variable\n",
    "    \"use_swarm_manager\": True,\n",
    "    \"swarm_data_dir\": \"my_swarm_data\", \n",
    "    \"swarm_file_format\": \"csv\",\n",
    "    \"resume_swarm_download\": True,\n",
    "    \"chunk_size\": 10  # Process 10 dates at a time\n",
    "}\n"
   ]
  },
  {
   "cell_type": "code",
   "execution_count": 7,
   "id": "4613fdc0",
   "metadata": {},
   "outputs": [
    {
     "name": "stdout",
     "output_type": "stream",
     "text": [
      "📁 Found existing data for 10 dates\n",
      "✅ All Swarm data already downloaded!\n"
     ]
    },
    {
     "name": "stderr",
     "output_type": "stream",
     "text": [
      "🧮 Processing GPS chunks (interpolation + CHAOS): 100%|██████████| 20/20 [00:06<00:00,  2.87chunk/s]\n"
     ]
    },
    {
     "name": "stdout",
     "output_type": "stream",
     "text": [
      "✅ Parallel annotation completed: 199 points processed\n",
      "Congrats! MagGeo has processed your GPS trajectory.\n",
      "Processing time: 8.05 seconds\n"
     ]
    }
   ],
   "source": [
    "start_time = time.time()\n",
    "    \n",
    "interpolated_df = annotate_gps_with_geomag(\n",
    "    params,\n",
    "    use_swarm_manager=True,\n",
    "    use_parallel=True\n",
    ")\n",
    "    \n",
    "print(f\"Processing time: {time.time() - start_time:.2f} seconds\")"
   ]
  },
  {
   "cell_type": "markdown",
   "id": "a4783b75",
   "metadata": {},
   "source": [
    "## Validate the results\n",
    "To validate the results we plot the `F` column. Intensity of the geomagnetic field in nanoTesla (nT) and compare it with the expected values. This is useful to ensure\n",
    "that the data has been correctly annotated and that the geomagnetic indices are accurate."
   ]
  },
  {
   "cell_type": "code",
   "execution_count": 3,
   "id": "4c94a5a0",
   "metadata": {},
   "outputs": [
    {
     "data": {
      "text/plain": [
       "Text(0, 0.5, '# of measurements')"
      ]
     },
     "execution_count": 3,
     "metadata": {},
     "output_type": "execute_result"
    },
    {
     "data": {
      "image/png": "[encoded data removed]",
      "text/plain": [
       "<Figure size 640x480 with 1 Axes>"
      ]
     },
     "metadata": {},
     "output_type": "display_data"
    }
   ],
   "source": [
    "import matplotlib.pyplot as plt\n",
    "## Creating a copy of the results and setting the Datetime Column as dataframe index.\n",
    "ValidateDF = interpolated_df.copy()\n",
    "ValidateDF.set_index(\"timestamp\", inplace=True)\n",
    "## Plotting the F column.\n",
    "hist = ValidateDF.hist(column='F')\n",
    "plt.title('F distribution')\n",
    "plt.xlabel('F in nT')\n",
    "plt.ylabel('# of measurements')"
   ]
  }
 ],
 "metadata": {
  "kernelspec": {
   "display_name": "MagGeoEnv_2",
   "language": "python",
   "name": "python3"
  },
  "language_info": {
   "codemirror_mode": {
    "name": "ipython",
    "version": 3
   },
   "file_extension": ".py",
   "mimetype": "text/x-python",
   "name": "python",
   "nbconvert_exporter": "python",
   "pygments_lexer": "ipython3",
   "version": "3.11.13"
  }
 },
 "nbformat": 4,
 "nbformat_minor": 5
}
