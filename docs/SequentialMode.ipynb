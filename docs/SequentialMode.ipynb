{
 "cells": [
  {
   "cell_type": "markdown",
   "metadata": {},
   "source": [
    "# MagGeo - Sequential Mode \n",
    "\n",
    "**Authors** | Fernando Benitez-Paez, Urška Demšar, Jed Long, Ciaran Beggan\n",
    "\n",
    "**Contact**  | [Fernando.Benitez@st-andrews.ac.uk](mailto:Fernando.Benitez@st-andrews.ac.uk), [ud2@st-andrews.ac.uk](mailto:ud2@st-andrews.ac.uk), [jed.long@uwo.ca](mailto:jed.long@uwo.ca), [ciar@bgs.ac.uk](mailto:Fernando.Benitez@st-andrews.ac.uk)\n",
    "\n",
    "**Keywords** | Bird migration, data fusion, Earth’s magnetic field, Swarm, GPS tracking "
   ]
  },
  {
   "cell_type": "markdown",
   "metadata": {},
   "source": [
    "## Overview\n",
    "\n",
    "This Jupyter Notebook will guide you through the required steps to annotate your GPS tracking data with the earth's magnetic field data from Swarm (European Space Agency). This version is called Sequential Mode, alternatively you can use Parallel Mode to take advantage of parallelized computing if required. More information about the Swarm satellites can be found in the Main Document on the MagGeo github repository. This script will use a sequential loop to run the annotation process for each GPS Point (row) from your data.\n",
    "\n",
    "To execute the code, you can go through each cell (pressing <code>Crtl+Enter</code>), you will also find inner comments `##` to describe each particular step. If you are not familiar with using Jupyter Notebooks, you might want to take some time to learn how first, for example take a look at the <code>notebook-basics.ipynb</code> Notebook inside MagGeo."
   ]
  },
  {
   "cell_type": "markdown",
   "metadata": {},
   "source": [
    "## Data requirements\n",
    "\n",
    "<div class=\"alert alert-warning\" role=\"alert\">\n",
    "  <strong>🔎 Your trajectory must be in a csv format:</strong>\n",
    "\n",
    "There are three columns that  must be included in your GPS trajectory. Make sure your GPS trajectory includes  **Latitude** , **Longitude** and **timestamp**. We suggest that the Timestamp column follow the day/month/year Hour:Minute (**dd/mm/yyyy HH:MM:SS**) format, Latitude and Longitude should be in decimal degrees (WGS84). Optionally an altitude column can be used providing altitude (the altitude must be in **km**). Other Columns will be ignored. Here it is an example of how your GPS track should look:\n",
    "\n",
    "<img src=\"./images/TableExample.png\">\n",
    "\n",
    "For this example we are reading the <strong>BirdGPSTrajectory.csv</strong> file. If you want to run the method using your own csv file, make sure you store your the file in the <code>./data</code> folder. For more information about the dataset we used in this example go to the Main Notebook.\n",
    "</div>"
   ]
  },
  {
   "cell_type": "markdown",
   "metadata": {},
   "source": [
    "## Import the required python libraries"
   ]
  },
  {
   "cell_type": "code",
   "execution_count": null,
   "metadata": {
    "ExecuteTime": {
     "end_time": "2021-02-15T10:54:58.836683Z",
     "start_time": "2021-02-15T10:54:51.818976Z"
    }
   },
   "outputs": [],
   "source": [
    "import datetime as dt\n",
    "from datetime import timedelta\n",
    "import sys, os\n",
    "import pandas as pd\n",
    "import numpy as np\n",
    "from tqdm import tqdm\n",
    "import matplotlib.pyplot as plt\n",
    "from viresclient import set_token\n",
    "sys.path.append(\"..\")\n",
    "\n",
    "import utilities\n",
    "from utilities.MagGeoFunctions import getGPSData\n",
    "from utilities.MagGeoFunctions import Get_Swarm_residuals\n",
    "from utilities.MagGeoFunctions import ST_IDW_Process\n",
    "from utilities.MagGeoFunctions import CHAOS_ground_values"
   ]
  },
  {
   "cell_type": "markdown",
   "metadata": {},
   "source": [
    "## Add your VirES web client Token\n",
    "\n",
    "The **VirES client API**, requires a token. Before start you need to get your own VirES token. You can visit https://vires.services/ to get yours, and then add it into the next cell."
   ]
  },
  {
   "cell_type": "code",
   "execution_count": null,
   "metadata": {
    "ExecuteTime": {
     "end_time": "2021-02-15T10:55:48.016921Z",
     "start_time": "2021-02-15T10:55:02.161379Z"
    }
   },
   "outputs": [],
   "source": [
    "set_token(\"https://vires.services/ows\", set_default=True)"
   ]
  },
  {
   "cell_type": "markdown",
   "metadata": {},
   "source": [
    "## Read the GPS track\n",
    "The following steps will load the GPS track from a csv file, and set some requirements before downloading geomagnetic data from Swarm. If your csv track file doesnt not have any altitude attribute, MagGeo will use sea level as your altitude (i.e., 0 Km). **Altitude column units must be Km**"
   ]
  },
  {
   "cell_type": "code",
   "execution_count": null,
   "metadata": {},
   "outputs": [],
   "source": [
    "base_dir=os.path.dirname(os.getcwd())\n",
    "temp_results_dir = os.path.join(base_dir, \"temp_data\")\n",
    "results_dir = os.path.join(base_dir, \"results\")\n",
    "data_dir = os.path.join(base_dir, \"data\")\n",
    "utilities_dir = os.path.join(base_dir, \"utilities\")"
   ]
  },
  {
   "cell_type": "code",
   "execution_count": null,
   "metadata": {},
   "outputs": [],
   "source": [
    "# Make sure the csv file of your trackectory is stored in the Data folder.\n",
    "# Enter the name of your GPS track csv file including the extension .csv  and press Enter (e.g. BirdGPSTrajectory.csv)\n",
    "# Make sure you have a columnn that integrates date and time, before include in MagGeo.\n",
    "# If your csv track file does not have any altitude attribute, MagGeo will use sea level as your altitude (i.e. 0 Km).\n",
    "# i.e height (Only in KM)\n",
    "gpsfilename= \"BirdGPSTrajectoryTest.csv\"\n",
    "Lat=\"location-lat\"\n",
    "Long=\"location-long\"\n",
    "DateTime=\"timestamp\"\n",
    "altitude = \"height\""
   ]
  },
  {
   "cell_type": "code",
   "execution_count": null,
   "metadata": {
    "ExecuteTime": {
     "end_time": "2021-02-15T10:56:38.339180Z",
     "start_time": "2021-02-15T10:56:37.669335Z"
    }
   },
   "outputs": [],
   "source": [
    "# Here MagGeo is reading your CSV file, taking the Lat, Long, Date&Time and Altitutes attributes and compute, some aditional attrubutes we need to the annotation process.\n",
    "# Setting the date and time attributes for the required format and computing the epoch column. Values like Maximum and Minimun Date and time are also calculated.\n",
    "GPSData = getGPSData(data_dir,gpsfilename,Lat,Long,DateTime,altitude)\n",
    "GPSData"
   ]
  },
  {
   "cell_type": "markdown",
   "metadata": {},
   "source": [
    "## Validate the correct amount of Swarm measures\n",
    "\n",
    "The following loop is identifiying the time and validating if the time is less than 4:00 hours and more than 20:00 hours to bring one extra day of data. The result of this validation is written in an empty python list which will be later validated to get the unique dates. This avoids duplicate downloading of data for the same day and reduces overall computational time."
   ]
  },
  {
   "cell_type": "code",
   "execution_count": null,
   "metadata": {
    "ExecuteTime": {
     "end_time": "2021-02-15T10:56:43.029375Z",
     "start_time": "2021-02-15T10:56:42.421248Z"
    }
   },
   "outputs": [],
   "source": [
    "datestimeslist = []\n",
    "for index, row in GPSData.iterrows():\n",
    "    datetimerow  = row['gpsDateTime']\n",
    "    daterow = row['dates']\n",
    "    hourrow = row['times']\n",
    "    hourrow = hourrow.strftime('%H:%M:%S')\n",
    "    if hourrow < '04:00:00':\n",
    "        date_bfr = daterow - (timedelta(days=1))\n",
    "        datestimeslist.append(daterow)\n",
    "        datestimeslist.append(date_bfr)\n",
    "    if hourrow > '20:00:00':\n",
    "        Date_aft = daterow + (timedelta(days=1))\n",
    "        datestimeslist.append(daterow)\n",
    "        datestimeslist.append(Date_aft)  \n",
    "    else:\n",
    "        datestimeslist.append(daterow)"
   ]
  },
  {
   "cell_type": "markdown",
   "metadata": {},
   "source": [
    "Getting a list of unique dates to download the Swarm Data"
   ]
  },
  {
   "cell_type": "code",
   "execution_count": null,
   "metadata": {
    "ExecuteTime": {
     "end_time": "2021-02-15T10:56:45.218892Z",
     "start_time": "2021-02-15T10:56:45.194722Z"
    },
    "scrolled": true
   },
   "outputs": [],
   "source": [
    "def uniquelistdates(list): \n",
    "    x = np.array(list) \n",
    "    uniquelist = np.unique(x)\n",
    "    return uniquelist\n",
    "\n",
    "uniquelist_dates = uniquelistdates(datestimeslist)\n",
    "uniquelist_dates"
   ]
  },
  {
   "cell_type": "markdown",
   "metadata": {},
   "source": [
    "## Download Swarm residuals data\n",
    "\n",
    "Once the date and time columns have been defined and the unique dates are identified the script can start the download process. Usually the data from Swarm is requested using only one satellite, however **MagGeo** will use the magnetic measures from the three satellite of the Swarm Mission (Alpha, Bravo, Charlie). Be aware satellite Charlie, got its AMS broken earlier in the mission, although the initial dates still have valid data MagGeo can use.\n",
    "\n",
    "\n",
    "<div class=\"alert alert-info\" role=\"alert\">\n",
    "📘 <strong>Be aware:</strong> Due to the amount of dates in the demo GPS track (42 days), the time to process the sample data will take approximately 10 minutes. Unfortunatly the download process migth be a slow process, particually for the magnetic models data MagGeo requieres.</div>\n",
    "\n",
    "Set a connection to the <code>VirES client</code> and using the function <code>Get_Swarm_residuals</code> we will get the swarm residuals for the dates included in the previous list."
   ]
  },
  {
   "cell_type": "code",
   "execution_count": null,
   "metadata": {
    "ExecuteTime": {
     "end_time": "2021-02-15T11:08:23.447789Z",
     "start_time": "2021-02-15T10:56:50.074487Z"
    },
    "scrolled": false
   },
   "outputs": [],
   "source": [
    "%%time\n",
    "\n",
    "hours_t_day = 24 #MagGeo needs the entire Swarm data for each day of the identified day.\n",
    "hours_added = dt.timedelta(hours = hours_t_day)\n",
    "\n",
    "listdfa = []\n",
    "listdfb = []\n",
    "listdfc = []\n",
    "\n",
    "for d in tqdm(uniquelist_dates, desc=\"Getting Swarm Data\"):\n",
    "    #print(\"Getting Swarm data for date:\",d )\n",
    "    startdate = dt.datetime.combine(d, dt.datetime.min.time())\n",
    "    enddate = startdate + hours_added\n",
    "    SwarmResidualsA,SwarmResidualsB,SwarmResidualsC = Get_Swarm_residuals(startdate, enddate)\n",
    "    listdfa.append(SwarmResidualsA)\n",
    "    listdfb.append(SwarmResidualsB)\n",
    "    listdfc.append(SwarmResidualsC)"
   ]
  },
  {
   "cell_type": "markdown",
   "metadata": {},
   "source": [
    "**Concat the previous results and temporally save the requested data locally:** Integrate the previous list for all dates, into pandas dataframes. We will temporally saved the previous results, in case you need to re-run MagGeo, with the following csv files you will not need to run the download process."
   ]
  },
  {
   "cell_type": "code",
   "execution_count": null,
   "metadata": {
    "ExecuteTime": {
     "end_time": "2021-02-15T11:08:36.226687Z",
     "start_time": "2021-02-15T11:08:23.449792Z"
    }
   },
   "outputs": [],
   "source": [
    "%%time\n",
    "\n",
    "PdSwarmRes_A = pd.concat(listdfa, join='outer', axis=0)\n",
    "PdSwarmRes_A.to_csv (os.path.join(temp_results_dir,'TotalSwarmRes_A.csv'), header=True)\n",
    "PdSwarmRes_B = pd.concat(listdfb, join='outer', axis=0)\n",
    "PdSwarmRes_B.to_csv (os.path.join(temp_results_dir,'TotalSwarmRes_B.csv'), header=True)\n",
    "PdSwarmRes_C = pd.concat(listdfc, join='outer', axis=0)\n",
    "PdSwarmRes_C.to_csv (os.path.join(temp_results_dir,'TotalSwarmRes_C.csv'), header=True)\n",
    "\n",
    "TotalSwarmRes_A = pd.read_csv(os.path.join(temp_results_dir,\"TotalSwarmRes_A.csv\"),low_memory=False, index_col='epoch')\n",
    "TotalSwarmRes_A['timestamp'] = pd.to_datetime(TotalSwarmRes_A['timestamp'])\n",
    "TotalSwarmRes_B = pd.read_csv(os.path.join(temp_results_dir,\"TotalSwarmRes_B.csv\"),low_memory=False, index_col='epoch')\n",
    "TotalSwarmRes_B['timestamp'] = pd.to_datetime(TotalSwarmRes_B['timestamp'])\n",
    "TotalSwarmRes_C = pd.read_csv(os.path.join(temp_results_dir,\"TotalSwarmRes_C.csv\"),low_memory=False, index_col='epoch')\n",
    "TotalSwarmRes_C['timestamp'] = pd.to_datetime(TotalSwarmRes_C['timestamp'])\n",
    "\n",
    "TotalSwarmRes_A.head(10) #If you need to take a look of the Swarm Data, you can print TotalSwarmRes_B, or TotalSwarmRes_C\n"
   ]
  },
  {
   "cell_type": "markdown",
   "metadata": {},
   "source": [
    "## Spatio-Temporal filter and interpolation process (ST-IDW) \n",
    "\n",
    "Once we have requested the swarm data, now we need to `filter` in space and time the available points to compute the magnetic values (NEC frame) for each GPS point based on its particular date and time. The function <code>ST_IDW_Process</code> takes the GPS track and the downloaded data from swarm to filter in space and time based on the criteria defined in our method. With the swarm data filtered we interpolate (IDW) the NEC components for each GPS data point."
   ]
  },
  {
   "cell_type": "code",
   "execution_count": null,
   "metadata": {
    "ExecuteTime": {
     "end_time": "2021-02-15T11:35:15.192588Z",
     "start_time": "2021-02-15T11:33:12.563586Z"
    },
    "scrolled": true
   },
   "outputs": [],
   "source": [
    "%%time\n",
    "#Sequential mode, applying a traditional loop using iterrows.\n",
    "if __name__ == '__main__':\n",
    "    dn = [] ## List used to add all the GPS points with the annotated MAG Data. See the last bullet point of this process        \n",
    "    for index, row in tqdm(GPSData.iterrows(), total=GPSData.shape[0], desc=\"Annotating the GPS Trayectory\"):\n",
    "        GPSLat = row['gpsLat']\n",
    "        GPSLong = row['gpsLong']\n",
    "        GPSDateTime = row['gpsDateTime']\n",
    "        GPSTime = row['epoch']\n",
    "        GPSAltitude = row['gpsAltitude']\n",
    "        #print(\"Process for:\", index,\"DateTime:\",GPSDateTime)\n",
    "        try:\n",
    "            result=ST_IDW_Process(GPSLat,GPSLong,GPSAltitude, GPSDateTime,GPSTime, TotalSwarmRes_A, TotalSwarmRes_B, TotalSwarmRes_C)\n",
    "            dn.append(result)\n",
    "        except:\n",
    "            #print(\"Ups!.That was a bad Swarm Point, let's keep working with the next point\")\n",
    "            result_badPoint= {'Latitude': GPSLat, 'Longitude': GPSLong, 'Altitude':GPSAltitude, 'DateTime': GPSDateTime, 'N_res': np.nan, 'E_res': np.nan, 'C_res':np.nan, 'TotalPoints':0, 'Minimum_Distance':np.nan, 'Average_Distance':np.nan}  \n",
    "            dn.append(result_badPoint)\n",
    "            continue"
   ]
  },
  {
   "cell_type": "markdown",
   "metadata": {},
   "source": [
    "Temporally save the ST-IDW result locally. Still MagGeo needs to run the calculation of geomagnetic components, brining the magnetic values at the altitude provided for your GPS track."
   ]
  },
  {
   "cell_type": "code",
   "execution_count": null,
   "metadata": {
    "ExecuteTime": {
     "end_time": "2021-02-15T11:37:08.980160Z",
     "start_time": "2021-02-15T11:37:08.823359Z"
    }
   },
   "outputs": [],
   "source": [
    "GPS_ResInt = pd.DataFrame(dn)\n",
    "GPS_ResInt.to_csv (os.path.join(temp_results_dir,\"GPS_ResInt.csv\"), header=True)\n",
    "GPS_ResInt"
   ]
  },
  {
   "cell_type": "markdown",
   "metadata": {},
   "source": [
    "## Compute the magnetic components at the trajectory altitute using CHAOS model\n",
    "\n",
    "The function <code>CHAOS_ground_values</code> is used to run the calculation of magnetic components. This adjustment requeries the magnetic components at the trajectory altitude (or at the ground level) using CHAOS (theta, phi, radial). This process also further conducts the rotation and transformation between a geocentric earth-based reference system (CHAOS) and geodetic earth-based reference system (GPS track). Once the corrected values are calculated the non-necesary columns are removed. For more information about this process go to the Main Notebook."
   ]
  },
  {
   "cell_type": "code",
   "execution_count": null,
   "metadata": {
    "ExecuteTime": {
     "end_time": "2021-02-15T11:37:16.074230Z",
     "start_time": "2021-02-15T11:37:12.175530Z"
    },
    "scrolled": true
   },
   "outputs": [],
   "source": [
    "%%time\n",
    "X_obs, Y_obs, Z_obs, X_obs_internal, Y_obs_internal, Z_obs_internal =CHAOS_ground_values(utilities_dir,GPS_ResInt)\n",
    "GPS_ResInt['N'] =pd.Series(X_obs)\n",
    "GPS_ResInt['E'] =pd.Series(Y_obs)\n",
    "GPS_ResInt['C'] =pd.Series(Z_obs)\n",
    "GPS_ResInt['N_Obs'] =pd.Series(X_obs_internal)\n",
    "GPS_ResInt['E_Obs'] =pd.Series(Y_obs_internal)\n",
    "GPS_ResInt['C_Obs'] =pd.Series(Z_obs_internal)\n",
    "\n",
    "GPS_ResInt.drop(columns=['N_res', 'E_res','C_res'], inplace=True)\n",
    "GPS_ResInt"
   ]
  },
  {
   "cell_type": "markdown",
   "metadata": {},
   "source": [
    "##  The final result \n",
    "\n",
    "With the NEC components for each GPS Track point, it is possible to compute the aditional magnetic components. For more information about the magnetic components and their relevance go to the main paper or notebook.\n",
    "\n",
    "<div class=\"alert alert-info\" role=\"alert\">\n",
    "    <strong>📘 The annotated dataframe will include the following attributes:</strong> If you need more information about how the geomagnetic components are described go to the main MagGeo Notebook (Add Link).\n",
    "    <ul>\n",
    "      <li><strong>Latitude</strong> from the GPS Track.</li>\n",
    "      <li><strong>Longitude</strong> from the GPS Track.</li>\n",
    "      <li><strong>Timestamp</strong> from the GPS Track.</li>\n",
    "      <li><strong>Magnetic Field Intensity</strong>  mapped as Fgps in nanoTeslas (nT).</li>\n",
    "      <li><strong>N (Northwards) component</strong> mapped as N in nanoTeslas (nT).</li>\n",
    "      <li><strong>E (Eastwards) component</strong> mapped as E. in nanoteslas (nT).</li>\n",
    "      <li><strong>C (Downwards or Center)</strong> component mapped as C in nanoTeslas (nT).</li>\n",
    "      <li><strong>Horizontal component</strong> mapped as H in nanoTeslas (nT).</li>\n",
    "      <li><strong>Magnetic Inclination </strong> mapped as I in degrees.</li> \n",
    "      <li><strong>Magnetic Declination or dip angle</strong> mapped as D in degrees</li>\n",
    "      <li><strong>Kp Index</strong> mapped as kp</li>\n",
    "      <li><strong>Total Points</strong> as the amount of Swarm points included in the ST-IDW process from the three satellites.</li>\n",
    "      <li><strong>Minimum Distance</strong> mapped as MinDist, representing the minimum distance from a Swarm points and each GPS point location.</li>\n",
    "      <li><strong>Average Distance</strong> mapped as AvDist, representing the average distance between the Swarm points and the GPS point location.</li>\n",
    "    </ul>\n",
    "\n",
    "</div> "
   ]
  },
  {
   "cell_type": "code",
   "execution_count": null,
   "metadata": {
    "ExecuteTime": {
     "end_time": "2021-02-15T11:37:20.431685Z",
     "start_time": "2021-02-15T11:37:20.330670Z"
    }
   },
   "outputs": [],
   "source": [
    "%%time\n",
    "# Having Intepolated and weighted the magnetic values, we can compute the other magnectic components. \n",
    "GPS_ResInt['H'] = np.sqrt((GPS_ResInt['N']**2)+(GPS_ResInt['E']**2))\n",
    "#check the arcgtan in python., From arctan2 is saver.\n",
    "DgpsRad = np.arctan2(GPS_ResInt['E'],GPS_ResInt['N'])\n",
    "GPS_ResInt['D'] = np.degrees(DgpsRad)\n",
    "IgpsRad = np.arctan2(GPS_ResInt['C'],GPS_ResInt['H'])\n",
    "GPS_ResInt['I'] = np.degrees(IgpsRad)\n",
    "GPS_ResInt['F'] = np.sqrt((GPS_ResInt['N']**2)+(GPS_ResInt['E']**2)+(GPS_ResInt['C']**2))\n",
    "GPS_ResInt"
   ]
  },
  {
   "cell_type": "markdown",
   "metadata": {
    "ExecuteTime": {
     "end_time": "2021-02-14T15:24:22.307037Z",
     "start_time": "2021-02-14T15:24:22.293034Z"
    }
   },
   "source": [
    "The previous dataframe (GPS_ResInt), MagGeo has computed the geomagnetic components for each locations and time of your CSV trajectory. Now we will finish up combining the original atributes from your CSV with the annotated results from MagGeo."
   ]
  },
  {
   "cell_type": "code",
   "execution_count": null,
   "metadata": {
    "ExecuteTime": {
     "end_time": "2021-02-15T11:37:23.755193Z",
     "start_time": "2021-02-15T11:37:23.655192Z"
    }
   },
   "outputs": [],
   "source": [
    "%%time\n",
    "originalGPSTrack=pd.read_csv(os.path.join(data_dir,gpsfilename))\n",
    "MagGeoResult = pd.concat([originalGPSTrack, GPS_ResInt], axis=1)\n",
    "#Drop duplicated columns. Latitude, Longitued, and DateTime will not be part of the final result.\n",
    "MagGeoResult.drop(columns=['Latitude', 'Longitude', 'DateTime'], inplace=True)\n",
    "MagGeoResult"
   ]
  },
  {
   "cell_type": "markdown",
   "metadata": {},
   "source": [
    "## Export the final results to a CSV file"
   ]
  },
  {
   "cell_type": "code",
   "execution_count": null,
   "metadata": {
    "ExecuteTime": {
     "end_time": "2021-02-15T11:37:29.447788Z",
     "start_time": "2021-02-15T11:37:29.407782Z"
    }
   },
   "outputs": [],
   "source": [
    "%%time\n",
    "#Exporting the CSV file\n",
    "outputfile =\"GeoMagResult_\"+gpsfilename\n",
    "export_csv = MagGeoResult.to_csv (os.path.join(results_dir,outputfile), index = None, header=True)\n"
   ]
  },
  {
   "cell_type": "markdown",
   "metadata": {},
   "source": [
    "## Validate the results ( Optional)\n",
    "To validate the results we plot the `Fgps`column."
   ]
  },
  {
   "cell_type": "code",
   "execution_count": null,
   "metadata": {
    "ExecuteTime": {
     "end_time": "2021-02-15T11:37:37.230806Z",
     "start_time": "2021-02-15T11:37:36.970752Z"
    }
   },
   "outputs": [],
   "source": [
    "## Creating a copy of the results and setting the Datetime Column as dataframe index.\n",
    "ValidateDF = GPS_ResInt.copy()\n",
    "ValidateDF.set_index(\"DateTime\", inplace=True)\n",
    "## Plotting the F column.\n",
    "hist = ValidateDF.hist(column='F')\n",
    "plt.title('F distribution')\n",
    "plt.xlabel('F in nT')\n",
    "plt.ylabel('# of measurements')"
   ]
  },
  {
   "cell_type": "markdown",
   "metadata": {},
   "source": [
    "## Map the GPS Track using the annotated Magnetic Values (Optional)\n",
    "\n",
    "Now we are going to plot the annotated GPS track stored into the MagDataFinal dataframe to see the different magnetic components in a map to have a better prespective of the impact of the earth magnetic field."
   ]
  },
  {
   "cell_type": "code",
   "execution_count": null,
   "metadata": {
    "ExecuteTime": {
     "end_time": "2021-02-15T11:37:41.688780Z",
     "start_time": "2021-02-15T11:37:40.712029Z"
    }
   },
   "outputs": [],
   "source": [
    "ValidateDF.plot(kind=\"scatter\", x=\"Latitude\", y=\"Longitude\",\n",
    "    label=\"Magnetic Intensity in nT\",\n",
    "    c=\"F\", cmap=plt.get_cmap(\"gist_rainbow\"),\n",
    "    colorbar=True, alpha=0.4, figsize=(10,7),\n",
    "    sharex=False #This is only needed to get the x-axis label working due to a current bug in pandas plot.\n",
    "    \n",
    ")\n",
    "\n",
    "plt.ylabel(\"Longitude\", fontsize=12)\n",
    "plt.xlabel(\"Latitude\", fontsize=12)\n",
    "plt.legend(fontsize=12)\n",
    "plt.show()"
   ]
  },
  {
   "cell_type": "code",
   "execution_count": null,
   "metadata": {
    "ExecuteTime": {
     "end_time": "2021-02-15T11:38:02.273096Z",
     "start_time": "2021-02-15T11:37:44.233629Z"
    }
   },
   "outputs": [],
   "source": [
    "import geopandas\n",
    "import geoplot\n",
    "import hvplot.pandas\n",
    "gdf = geopandas.GeoDataFrame(ValidateDF, geometry=geopandas.points_from_xy(ValidateDF.Longitude, ValidateDF.Latitude))\n",
    "gdf.head()"
   ]
  },
  {
   "cell_type": "code",
   "execution_count": null,
   "metadata": {},
   "outputs": [],
   "source": [
    "gdf.hvplot(title=f'Annotated trajectory using MagGeo - F GeoMag Intensity',\n",
    "           geo=True,\n",
    "           c='F',\n",
    "           tiles='CartoLight',\n",
    "           frame_width=700,\n",
    "           frame_height=500)"
   ]
  },
  {
   "cell_type": "code",
   "execution_count": null,
   "metadata": {},
   "outputs": [],
   "source": [
    "gdf.hvplot(title=f'Annotated trajectory using MagGeo - I Inclination',\n",
    "           geo=True,\n",
    "           tiles='CartoLight',\n",
    "           c='I',\n",
    "           cmap='Viridis',\n",
    "           frame_width=700,\n",
    "           frame_height=500)"
   ]
  },
  {
   "cell_type": "code",
   "execution_count": null,
   "metadata": {
    "ExecuteTime": {
     "end_time": "2021-02-15T11:46:12.091698Z",
     "start_time": "2021-02-15T11:46:09.197095Z"
    }
   },
   "outputs": [],
   "source": [
    "world = geopandas.read_file(geopandas.datasets.get_path('naturalearth_lowres'))\n",
    "\n",
    "ax = world.plot(color='white', edgecolor='gray', figsize = (18,8))\n",
    "\n",
    "minx, miny, maxx, maxy = gdf.total_bounds\n",
    "ax.set_xlim(minx, maxx)\n",
    "ax.set_ylim(miny, maxy)\n",
    "\n",
    "gdf.plot(ax=ax, column='F', legend=True, \n",
    "         legend_kwds={'label': \"Magnetic Intensity in nT\",\n",
    "                      'orientation': \"horizontal\"})\n",
    "plt.ylabel(\"Longitude\", fontsize=12)\n",
    "plt.xlabel(\"Latitude\", fontsize=12)\n",
    "\n",
    "plt.show()"
   ]
  },
  {
   "cell_type": "code",
   "execution_count": null,
   "metadata": {
    "ExecuteTime": {
     "end_time": "2021-02-15T11:46:15.528836Z",
     "start_time": "2021-02-15T11:46:13.117270Z"
    }
   },
   "outputs": [],
   "source": [
    "fig, (ax1, ax2) = plt.subplots(ncols=2, figsize = (18,8))\n",
    "\n",
    "ax1 = world.plot(ax=ax1, color='white', edgecolor='black')\n",
    "xlim = ([gdf.total_bounds[0],  gdf.total_bounds[2]])\n",
    "ylim = ([gdf.total_bounds[1],  gdf.total_bounds[3]])\n",
    "ax1.set_xlim(xlim)\n",
    "ax1.set_ylim(ylim)\n",
    "\n",
    "\n",
    "gdf.plot(ax=ax1, column='F', legend=True,\n",
    "         legend_kwds={'label': \"Magnetic Intensity in nT\",\n",
    "                      'orientation': \"horizontal\"})\n",
    "plt.ylabel(\"Longitude\", fontsize=9)\n",
    "plt.xlabel(\"Latitude\", fontsize=9)\n",
    "ax1.set_title('Magnetic Intensity - F')\n",
    "ax1.set_xlabel('Latitude')\n",
    "ax1.set_ylabel('Longitude')\n",
    "\n",
    "\n",
    "ax2 = world.plot( ax=ax2, color='white', edgecolor='black')\n",
    "xlim = ([gdf.total_bounds[0],  gdf.total_bounds[2]])\n",
    "ylim = ([gdf.total_bounds[1],  gdf.total_bounds[3]])\n",
    "ax2.set_xlim(xlim)\n",
    "ax2.set_ylim(ylim)\n",
    "\n",
    "\n",
    "# We can now plot our ``GeoDataFrame``.\n",
    "gdf.plot(ax=ax2, column='I', legend=True, cmap='Spectral', \n",
    "         legend_kwds={'label': \" Inclination in Degrees\",\n",
    "                      'orientation': \"horizontal\"})\n",
    "ax2.set_title('Inclination - I')\n",
    "ax2.set_xlabel('Latitude')\n",
    "ax2.set_ylabel('Longitude')"
   ]
  }
 ],
 "metadata": {
  "kernelspec": {
   "display_name": "Python 3 (ipykernel)",
   "language": "python",
   "name": "python3"
  },
  "language_info": {
   "codemirror_mode": {
    "name": "ipython",
    "version": 3
   },
   "file_extension": ".py",
   "mimetype": "text/x-python",
   "name": "python",
   "nbconvert_exporter": "python",
   "pygments_lexer": "ipython3",
   "version": "3.8.12"
  },
  "toc": {
   "base_numbering": 1,
   "nav_menu": {},
   "number_sections": true,
   "sideBar": true,
   "skip_h1_title": false,
   "title_cell": "Table of Contents",
   "title_sidebar": "Contents",
   "toc_cell": false,
   "toc_position": {
    "height": "calc(100% - 180px)",
    "left": "10px",
    "top": "150px",
    "width": "378px"
   },
   "toc_section_display": true,
   "toc_window_display": true
  }
 },
 "nbformat": 4,
 "nbformat_minor": 4
}
